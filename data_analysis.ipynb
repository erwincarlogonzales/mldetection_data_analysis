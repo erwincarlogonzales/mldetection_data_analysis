{
 "cells": [
  {
   "cell_type": "code",
   "execution_count": 1,
   "id": "4bef0e59",
   "metadata": {},
   "outputs": [],
   "source": [
    "import pandas as pd"
   ]
  },
  {
   "cell_type": "code",
   "execution_count": 2,
   "id": "92d5a81f",
   "metadata": {},
   "outputs": [
    {
     "data": {
      "application/vnd.microsoft.datawrangler.viewer.v0+json": {
       "columns": [
        {
         "name": "index",
         "rawType": "int64",
         "type": "integer"
        },
        {
         "name": "Item",
         "rawType": "object",
         "type": "string"
        },
        {
         "name": "System_Type",
         "rawType": "object",
         "type": "string"
        },
        {
         "name": "Round",
         "rawType": "int64",
         "type": "integer"
        },
        {
         "name": "Min",
         "rawType": "int64",
         "type": "integer"
        },
        {
         "name": "Sec",
         "rawType": "int64",
         "type": "integer"
        },
        {
         "name": "Sec/100",
         "rawType": "int64",
         "type": "integer"
        },
        {
         "name": "Total_Seconds_Per_Round",
         "rawType": "float64",
         "type": "float"
        },
        {
         "name": "Defects for Round",
         "rawType": "int64",
         "type": "integer"
        },
        {
         "name": "Observed Total Count for Round",
         "rawType": "int64",
         "type": "integer"
        },
        {
         "name": "Accuracy for Round",
         "rawType": "float64",
         "type": "float"
        },
        {
         "name": "GT_Number_of_Objects",
         "rawType": "float64",
         "type": "float"
        },
        {
         "name": "GT_Number_of_Defects",
         "rawType": "float64",
         "type": "float"
        },
        {
         "name": "GT_Grand_Total_Count",
         "rawType": "float64",
         "type": "float"
        },
        {
         "name": "Notes",
         "rawType": "float64",
         "type": "float"
        },
        {
         "name": "Count 1",
         "rawType": "int64",
         "type": "integer"
        },
        {
         "name": "Count 2",
         "rawType": "float64",
         "type": "float"
        },
        {
         "name": "Count 3",
         "rawType": "float64",
         "type": "float"
        },
        {
         "name": "Count 4",
         "rawType": "float64",
         "type": "float"
        },
        {
         "name": "Count 5",
         "rawType": "float64",
         "type": "float"
        },
        {
         "name": "Count 6",
         "rawType": "float64",
         "type": "float"
        },
        {
         "name": "Count 7",
         "rawType": "float64",
         "type": "float"
        },
        {
         "name": "Count 8",
         "rawType": "float64",
         "type": "float"
        },
        {
         "name": "Count 9",
         "rawType": "float64",
         "type": "float"
        }
       ],
       "ref": "4db73aba-66e1-4163-9ce3-79a5e4253b55",
       "rows": [
        [
         "0",
         "black",
         "human",
         "1",
         "2",
         "40",
         "36",
         "160.36",
         "5",
         "141",
         "1.0368",
         "131.0",
         "5.0",
         "2720.0",
         null,
         "136",
         null,
         null,
         null,
         null,
         null,
         null,
         null,
         null
        ],
        [
         "1",
         "black",
         "human",
         "2",
         "2",
         "42",
         "40",
         "162.4",
         "5",
         "141",
         "1.0368",
         "131.0",
         "5.0",
         "2720.0",
         null,
         "136",
         null,
         null,
         null,
         null,
         null,
         null,
         null,
         null
        ],
        [
         "2",
         "black",
         "human",
         "3",
         "2",
         "22",
         "87",
         "142.87",
         "5",
         "139",
         "1.0221",
         "131.0",
         "5.0",
         "2720.0",
         null,
         "134",
         null,
         null,
         null,
         null,
         null,
         null,
         null,
         null
        ],
        [
         "3",
         "black",
         "human",
         "4",
         "1",
         "38",
         "14",
         "98.14",
         "5",
         "139",
         "1.0221",
         "131.0",
         "5.0",
         "2720.0",
         null,
         "134",
         null,
         null,
         null,
         null,
         null,
         null,
         null,
         null
        ],
        [
         "4",
         "black",
         "human",
         "5",
         "2",
         "1",
         "47",
         "121.47",
         "5",
         "139",
         "1.0221",
         "131.0",
         "5.0",
         "2720.0",
         null,
         "134",
         null,
         null,
         null,
         null,
         null,
         null,
         null,
         null
        ]
       ],
       "shape": {
        "columns": 23,
        "rows": 5
       }
      },
      "text/html": [
       "<div>\n",
       "<style scoped>\n",
       "    .dataframe tbody tr th:only-of-type {\n",
       "        vertical-align: middle;\n",
       "    }\n",
       "\n",
       "    .dataframe tbody tr th {\n",
       "        vertical-align: top;\n",
       "    }\n",
       "\n",
       "    .dataframe thead th {\n",
       "        text-align: right;\n",
       "    }\n",
       "</style>\n",
       "<table border=\"1\" class=\"dataframe\">\n",
       "  <thead>\n",
       "    <tr style=\"text-align: right;\">\n",
       "      <th></th>\n",
       "      <th>Item</th>\n",
       "      <th>System_Type</th>\n",
       "      <th>Round</th>\n",
       "      <th>Min</th>\n",
       "      <th>Sec</th>\n",
       "      <th>Sec/100</th>\n",
       "      <th>Total_Seconds_Per_Round</th>\n",
       "      <th>Defects for Round</th>\n",
       "      <th>Observed Total Count for Round</th>\n",
       "      <th>Accuracy for Round</th>\n",
       "      <th>...</th>\n",
       "      <th>Notes</th>\n",
       "      <th>Count 1</th>\n",
       "      <th>Count 2</th>\n",
       "      <th>Count 3</th>\n",
       "      <th>Count 4</th>\n",
       "      <th>Count 5</th>\n",
       "      <th>Count 6</th>\n",
       "      <th>Count 7</th>\n",
       "      <th>Count 8</th>\n",
       "      <th>Count 9</th>\n",
       "    </tr>\n",
       "  </thead>\n",
       "  <tbody>\n",
       "    <tr>\n",
       "      <th>0</th>\n",
       "      <td>black</td>\n",
       "      <td>human</td>\n",
       "      <td>1</td>\n",
       "      <td>2</td>\n",
       "      <td>40</td>\n",
       "      <td>36</td>\n",
       "      <td>160.36</td>\n",
       "      <td>5</td>\n",
       "      <td>141</td>\n",
       "      <td>1.0368</td>\n",
       "      <td>...</td>\n",
       "      <td>NaN</td>\n",
       "      <td>136</td>\n",
       "      <td>NaN</td>\n",
       "      <td>NaN</td>\n",
       "      <td>NaN</td>\n",
       "      <td>NaN</td>\n",
       "      <td>NaN</td>\n",
       "      <td>NaN</td>\n",
       "      <td>NaN</td>\n",
       "      <td>NaN</td>\n",
       "    </tr>\n",
       "    <tr>\n",
       "      <th>1</th>\n",
       "      <td>black</td>\n",
       "      <td>human</td>\n",
       "      <td>2</td>\n",
       "      <td>2</td>\n",
       "      <td>42</td>\n",
       "      <td>40</td>\n",
       "      <td>162.40</td>\n",
       "      <td>5</td>\n",
       "      <td>141</td>\n",
       "      <td>1.0368</td>\n",
       "      <td>...</td>\n",
       "      <td>NaN</td>\n",
       "      <td>136</td>\n",
       "      <td>NaN</td>\n",
       "      <td>NaN</td>\n",
       "      <td>NaN</td>\n",
       "      <td>NaN</td>\n",
       "      <td>NaN</td>\n",
       "      <td>NaN</td>\n",
       "      <td>NaN</td>\n",
       "      <td>NaN</td>\n",
       "    </tr>\n",
       "    <tr>\n",
       "      <th>2</th>\n",
       "      <td>black</td>\n",
       "      <td>human</td>\n",
       "      <td>3</td>\n",
       "      <td>2</td>\n",
       "      <td>22</td>\n",
       "      <td>87</td>\n",
       "      <td>142.87</td>\n",
       "      <td>5</td>\n",
       "      <td>139</td>\n",
       "      <td>1.0221</td>\n",
       "      <td>...</td>\n",
       "      <td>NaN</td>\n",
       "      <td>134</td>\n",
       "      <td>NaN</td>\n",
       "      <td>NaN</td>\n",
       "      <td>NaN</td>\n",
       "      <td>NaN</td>\n",
       "      <td>NaN</td>\n",
       "      <td>NaN</td>\n",
       "      <td>NaN</td>\n",
       "      <td>NaN</td>\n",
       "    </tr>\n",
       "    <tr>\n",
       "      <th>3</th>\n",
       "      <td>black</td>\n",
       "      <td>human</td>\n",
       "      <td>4</td>\n",
       "      <td>1</td>\n",
       "      <td>38</td>\n",
       "      <td>14</td>\n",
       "      <td>98.14</td>\n",
       "      <td>5</td>\n",
       "      <td>139</td>\n",
       "      <td>1.0221</td>\n",
       "      <td>...</td>\n",
       "      <td>NaN</td>\n",
       "      <td>134</td>\n",
       "      <td>NaN</td>\n",
       "      <td>NaN</td>\n",
       "      <td>NaN</td>\n",
       "      <td>NaN</td>\n",
       "      <td>NaN</td>\n",
       "      <td>NaN</td>\n",
       "      <td>NaN</td>\n",
       "      <td>NaN</td>\n",
       "    </tr>\n",
       "    <tr>\n",
       "      <th>4</th>\n",
       "      <td>black</td>\n",
       "      <td>human</td>\n",
       "      <td>5</td>\n",
       "      <td>2</td>\n",
       "      <td>1</td>\n",
       "      <td>47</td>\n",
       "      <td>121.47</td>\n",
       "      <td>5</td>\n",
       "      <td>139</td>\n",
       "      <td>1.0221</td>\n",
       "      <td>...</td>\n",
       "      <td>NaN</td>\n",
       "      <td>134</td>\n",
       "      <td>NaN</td>\n",
       "      <td>NaN</td>\n",
       "      <td>NaN</td>\n",
       "      <td>NaN</td>\n",
       "      <td>NaN</td>\n",
       "      <td>NaN</td>\n",
       "      <td>NaN</td>\n",
       "      <td>NaN</td>\n",
       "    </tr>\n",
       "  </tbody>\n",
       "</table>\n",
       "<p>5 rows × 23 columns</p>\n",
       "</div>"
      ],
      "text/plain": [
       "    Item System_Type  Round  Min  Sec  Sec/100  Total_Seconds_Per_Round  \\\n",
       "0  black       human      1    2   40       36                   160.36   \n",
       "1  black       human      2    2   42       40                   162.40   \n",
       "2  black       human      3    2   22       87                   142.87   \n",
       "3  black       human      4    1   38       14                    98.14   \n",
       "4  black       human      5    2    1       47                   121.47   \n",
       "\n",
       "   Defects for Round  Observed Total Count for Round  Accuracy for Round  ...  \\\n",
       "0                  5                             141              1.0368  ...   \n",
       "1                  5                             141              1.0368  ...   \n",
       "2                  5                             139              1.0221  ...   \n",
       "3                  5                             139              1.0221  ...   \n",
       "4                  5                             139              1.0221  ...   \n",
       "\n",
       "   Notes  Count 1  Count 2  Count 3  Count 4  Count 5  Count 6  Count 7  \\\n",
       "0    NaN      136      NaN      NaN      NaN      NaN      NaN      NaN   \n",
       "1    NaN      136      NaN      NaN      NaN      NaN      NaN      NaN   \n",
       "2    NaN      134      NaN      NaN      NaN      NaN      NaN      NaN   \n",
       "3    NaN      134      NaN      NaN      NaN      NaN      NaN      NaN   \n",
       "4    NaN      134      NaN      NaN      NaN      NaN      NaN      NaN   \n",
       "\n",
       "   Count 8  Count 9  \n",
       "0      NaN      NaN  \n",
       "1      NaN      NaN  \n",
       "2      NaN      NaN  \n",
       "3      NaN      NaN  \n",
       "4      NaN      NaN  \n",
       "\n",
       "[5 rows x 23 columns]"
      ]
     },
     "execution_count": 2,
     "metadata": {},
     "output_type": "execute_result"
    }
   ],
   "source": [
    "file_path = \"master_data.csv\"\n",
    "\n",
    "df = pd.read_csv(file_path)\n",
    "df.head()"
   ]
  },
  {
   "cell_type": "code",
   "execution_count": 3,
   "id": "ac75ec7b",
   "metadata": {},
   "outputs": [
    {
     "name": "stdout",
     "output_type": "stream",
     "text": [
      "e:\\Documents\\GitHub\\mldetection_data_analysis\\.venv\\Scripts\\python.exe\n"
     ]
    }
   ],
   "source": [
    "import sys; print(sys.executable)"
   ]
  },
  {
   "cell_type": "code",
   "execution_count": null,
   "id": "493bffa5",
   "metadata": {},
   "outputs": [],
   "source": []
  }
 ],
 "metadata": {
  "kernelspec": {
   "display_name": "mldetection-data-analysis-py3.11",
   "language": "python",
   "name": "python3"
  },
  "language_info": {
   "codemirror_mode": {
    "name": "ipython",
    "version": 3
   },
   "file_extension": ".py",
   "mimetype": "text/x-python",
   "name": "python",
   "nbconvert_exporter": "python",
   "pygments_lexer": "ipython3",
   "version": "3.11.0"
  }
 },
 "nbformat": 4,
 "nbformat_minor": 5
}
